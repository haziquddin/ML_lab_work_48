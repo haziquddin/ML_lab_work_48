{
  "nbformat": 4,
  "nbformat_minor": 0,
  "metadata": {
    "colab": {
      "provenance": [],
      "authorship_tag": "ABX9TyOfLAQVEYFVSDHxri6NjCok",
      "include_colab_link": true
    },
    "kernelspec": {
      "name": "python3",
      "display_name": "Python 3"
    },
    "language_info": {
      "name": "python"
    }
  },
  "cells": [
    {
      "cell_type": "markdown",
      "metadata": {
        "id": "view-in-github",
        "colab_type": "text"
      },
      "source": [
        "<a href=\"https://colab.research.google.com/github/haziquddin/ML_lab_work_48/blob/main/ML_Lab_03.ipynb\" target=\"_parent\"><img src=\"https://colab.research.google.com/assets/colab-badge.svg\" alt=\"Open In Colab\"/></a>"
      ]
    },
    {
      "cell_type": "code",
      "execution_count": 5,
      "metadata": {
        "colab": {
          "base_uri": "https://localhost:8080/"
        },
        "id": "FnzHFjUrZeQc",
        "outputId": "721e376a-2130-48d3-b558-aa7fc761825e"
      },
      "outputs": [
        {
          "output_type": "stream",
          "name": "stdout",
          "text": [
            "[1, 0, 1, 1, 0, 0, 0, 1, 0, 0]\n",
            "[19, 50, 53, 39, 2, 22, 28, 2, 43, 23]\n",
            "[21, 24, 21, 24, 24, 23, 20, 22, 21, 25]\n"
          ]
        }
      ],
      "source": [
        "from random import randint\n",
        "x = []\n",
        "y = []\n",
        "c = []\n",
        "for i in range(10):\n",
        "  c.append(randint(0,1))\n",
        "  x.append(randint(2,54))\n",
        "  y.append(randint(20,25))\n",
        "print(c)\n",
        "print(x)\n",
        "print(y)"
      ]
    },
    {
      "cell_type": "code",
      "source": [
        "import matplotlib.pyplot as plt\n",
        "plt.scatter(x,y,c=c)\n",
        "plt.show"
      ],
      "metadata": {
        "colab": {
          "base_uri": "https://localhost:8080/",
          "height": 282
        },
        "id": "Zj7USrhjZ5Xl",
        "outputId": "408d0bdd-c2c8-4143-ab72-762a5a419052"
      },
      "execution_count": 7,
      "outputs": [
        {
          "output_type": "execute_result",
          "data": {
            "text/plain": [
              "<function matplotlib.pyplot.show(*args, **kw)>"
            ]
          },
          "metadata": {},
          "execution_count": 7
        },
        {
          "output_type": "display_data",
          "data": {
            "text/plain": [
              "<Figure size 432x288 with 1 Axes>"
            ],
            "image/png": "[encoded data removed]"
          },
          "metadata": {
            "needs_background": "light"
          }
        }
      ]
    },
    {
      "cell_type": "code",
      "source": [
        "from IPython.core.events import pre_execute\n",
        "from sklearn.neighbors import KNeighborsClassifier\n",
        "\n",
        "data = list(zip(x,y))\n",
        "knn = KNeighborsClassifier(n_neighbors=3)\n",
        "                           \n",
        "knn.fit(data,c)\n",
        "\n",
        "KNeighborsClassifier(n_neighbors=3)\n",
        "\n",
        "x_test=[2,3,4,23,4,1]\n",
        "y_test = [21,5,3,23,6,3]\n",
        "test_data = list(zip(x_test,y_test))\n",
        "\n",
        "prediction = knn.predict(test_data)\n",
        "\n",
        "print(prediction)"
      ],
      "metadata": {
        "colab": {
          "base_uri": "https://localhost:8080/"
        },
        "id": "Dqs6sfzcazw0",
        "outputId": "c6653d4c-c200-4135-a3d1-ed9c7395e06c"
      },
      "execution_count": 9,
      "outputs": [
        {
          "output_type": "stream",
          "name": "stdout",
          "text": [
            "[1 1 1 0 1 1]\n"
          ]
        }
      ]
    },
    {
      "cell_type": "code",
      "source": [
        "plt.scatter(x_test,y_test,c=prediction)"
      ],
      "metadata": {
        "colab": {
          "base_uri": "https://localhost:8080/",
          "height": 282
        },
        "id": "lUbwUdGvb3GT",
        "outputId": "231ba325-f9f5-41b5-fc9f-17b97cf6250f"
      },
      "execution_count": 10,
      "outputs": [
        {
          "output_type": "execute_result",
          "data": {
            "text/plain": [
              "<matplotlib.collections.PathCollection at 0x7f69dac943d0>"
            ]
          },
          "metadata": {},
          "execution_count": 10
        },
        {
          "output_type": "display_data",
          "data": {
            "text/plain": [
              "<Figure size 432x288 with 1 Axes>"
            ],
            "image/png": "[encoded data removed]"
          },
          "metadata": {
            "needs_background": "light"
          }
        }
      ]
    },
    {
      "cell_type": "code",
      "source": [
        "from sklearn.naive_bayes import GaussianNB\n",
        "\n",
        "nb_model = GaussianNB()\n",
        "nb_mod = nb_model.fit(data,c)\n",
        "predictions = nb_mod.predict(test_data)\n",
        "\n",
        "plt.scatter(x_test,y_test,c=predictions)\n",
        "plt.show()"
      ],
      "metadata": {
        "colab": {
          "base_uri": "https://localhost:8080/",
          "height": 265
        },
        "id": "_eODxp99b-yC",
        "outputId": "6b870267-2d83-4d58-cbed-57bf4ee0459b"
      },
      "execution_count": 11,
      "outputs": [
        {
          "output_type": "display_data",
          "data": {
            "text/plain": [
              "<Figure size 432x288 with 1 Axes>"
            ],
            "image/png": "[encoded data removed]"
          },
          "metadata": {
            "needs_background": "light"
          }
        }
      ]
    },
    {
      "cell_type": "code",
      "source": [
        "from sklearn.svm import SVC\n",
        "sv_model = SVC()\n",
        "sv_mod = sv_model.fit(data,c)\n",
        "prediction = sv_mod.predict(test_data)\n",
        "plt.scatter(x_test,y_test,c=prediction)\n",
        "\n",
        "plt.show()"
      ],
      "metadata": {
        "colab": {
          "base_uri": "https://localhost:8080/",
          "height": 265
        },
        "id": "fp7QTrvTcnAj",
        "outputId": "437add2a-5a69-42ac-8e64-85b9339e19f6"
      },
      "execution_count": 12,
      "outputs": [
        {
          "output_type": "display_data",
          "data": {
            "text/plain": [
              "<Figure size 432x288 with 1 Axes>"
            ],
            "image/png": "[encoded data removed]"
          },
          "metadata": {
            "needs_background": "light"
          }
        }
      ]
    }
  ]
}