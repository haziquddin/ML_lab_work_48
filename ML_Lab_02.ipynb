{
  "nbformat": 4,
  "nbformat_minor": 0,
  "metadata": {
    "colab": {
      "provenance": [],
      "authorship_tag": "ABX9TyOjT4l0jf59MyU4KEz13X8i",
      "include_colab_link": true
    },
    "kernelspec": {
      "name": "python3",
      "display_name": "Python 3"
    },
    "language_info": {
      "name": "python"
    }
  },
  "cells": [
    {
      "cell_type": "markdown",
      "metadata": {
        "id": "view-in-github",
        "colab_type": "text"
      },
      "source": [
        "<a href=\"https://colab.research.google.com/github/haziquddin/ML_lab_work_48/blob/main/ML_Lab_02.ipynb\" target=\"_parent\"><img src=\"https://colab.research.google.com/assets/colab-badge.svg\" alt=\"Open In Colab\"/></a>"
      ]
    },
    {
      "cell_type": "code",
      "execution_count": null,
      "metadata": {
        "id": "Ep26_V_SWTVq"
      },
      "outputs": [],
      "source": [
        "from sklearn.metrics import confusion_matrix\n",
        "from sklearn.metrics import classification_report"
      ]
    },
    {
      "cell_type": "code",
      "source": [
        "a = [0,1,0,1,1,1,1,0,0,1,0,1]\n",
        "b = [1,1,0,0,1,1,0,1,0,1,0,0]\n",
        "\n",
        "matrix= confusion_matrix(a,b)\n",
        "cl_report = classification_report(a,b)"
      ],
      "metadata": {
        "id": "e6DVwlooWl2G"
      },
      "execution_count": null,
      "outputs": []
    },
    {
      "cell_type": "code",
      "source": [
        "print(\"confusion matrix\")\n",
        "print(matrix)"
      ],
      "metadata": {
        "colab": {
          "base_uri": "https://localhost:8080/"
        },
        "id": "75Udmo3AXYMW",
        "outputId": "50179c9d-82ce-4b38-84d6-bc85d3f74008"
      },
      "execution_count": null,
      "outputs": [
        {
          "output_type": "stream",
          "name": "stdout",
          "text": [
            "confusion matrix\n",
            "[[3 2]\n",
            " [3 4]]\n"
          ]
        }
      ]
    },
    {
      "cell_type": "code",
      "source": [
        "print(cl_report)"
      ],
      "metadata": {
        "colab": {
          "base_uri": "https://localhost:8080/"
        },
        "id": "LJeC0C-7XfL2",
        "outputId": "103cf9b3-2ff5-46d9-f010-bc95b81d3fc4"
      },
      "execution_count": null,
      "outputs": [
        {
          "output_type": "stream",
          "name": "stdout",
          "text": [
            "              precision    recall  f1-score   support\n",
            "\n",
            "           0       0.50      0.60      0.55         5\n",
            "           1       0.67      0.57      0.62         7\n",
            "\n",
            "    accuracy                           0.58        12\n",
            "   macro avg       0.58      0.59      0.58        12\n",
            "weighted avg       0.60      0.58      0.59        12\n",
            "\n"
          ]
        }
      ]
    },
    {
      "cell_type": "code",
      "source": [],
      "metadata": {
        "id": "h8tjBF8cXlGO"
      },
      "execution_count": null,
      "outputs": []
    }
  ]
}